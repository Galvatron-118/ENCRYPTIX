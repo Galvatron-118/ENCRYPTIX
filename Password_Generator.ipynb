{
  "nbformat": 4,
  "nbformat_minor": 0,
  "metadata": {
    "colab": {
      "provenance": [],
      "authorship_tag": "ABX9TyMc4fOM4//VIm1dRRZ2LjJW",
      "include_colab_link": true
    },
    "kernelspec": {
      "name": "python3",
      "display_name": "Python 3"
    },
    "language_info": {
      "name": "python"
    }
  },
  "cells": [
    {
      "cell_type": "markdown",
      "metadata": {
        "id": "view-in-github",
        "colab_type": "text"
      },
      "source": [
        "<a href=\"https://colab.research.google.com/github/Galvatron-118/ENCRYPTIX/blob/main/Password_Generator.ipynb\" target=\"_parent\"><img src=\"https://colab.research.google.com/assets/colab-badge.svg\" alt=\"Open In Colab\"/></a>"
      ]
    },
    {
      "cell_type": "code",
      "execution_count": 40,
      "metadata": {
        "id": "IdSX1-BLadiA",
        "colab": {
          "base_uri": "https://localhost:8080/"
        },
        "outputId": "450789c8-f5e5-45ee-b048-3c59162bb5fd"
      },
      "outputs": [
        {
          "output_type": "stream",
          "name": "stdout",
          "text": [
            "Enter the length of the password:\n",
            "3\n",
            "Specify Complexity:\n",
            " 1. Only Letters\n",
            " 2. Only Digits\n",
            " 3. Only Special Characters\n",
            " 4. Letters+Digits\n",
            " 5. Letters+Special Characters\n",
            " 6. Digits+Special Characters\n",
            " 7. All Types Combined\n",
            "1\n",
            "Desired Password: jvA\n"
          ]
        }
      ],
      "source": [
        "import random\n",
        "import string\n",
        "\n",
        "def repeatCode():\n",
        "  print(\"Specify Complexity:\\n 1. Only Letters\\n 2. Only Digits\\n 3. Only Special Characters\\n 4. Letters+Digits\\n 5. Letters+Special Characters\\n 6. Digits+Special Characters\\n 7. All Types Combined\");\n",
        "  pick = int(input())\n",
        "\n",
        "  if (pick<=7):\n",
        "\n",
        "    if(pick==1):\n",
        "      characters_set = string.ascii_letters\n",
        "\n",
        "    elif(pick==2):\n",
        "      characters_set = string.digits;\n",
        "\n",
        "    elif(pick==3):\n",
        "      characters_set = string.punctuation;\n",
        "\n",
        "    elif(pick==4):\n",
        "      characters_set = string.ascii_letters + string.digits;\n",
        "\n",
        "    elif(pick==5):\n",
        "      characters_set = string.ascii_letters + string.punctuation;\n",
        "\n",
        "    elif(pick==6):\n",
        "      characters_set = string.digits + string.punctuation;\n",
        "\n",
        "    elif(pick==7):\n",
        "      characters_set = string.ascii_letters + string.digits + string.punctuation;\n",
        "\n",
        "    def pass_generator(len):\n",
        "          password = \"\".join(random.choices(characters_set, k = len));\n",
        "          return password;\n",
        "\n",
        "    print(\"Desired Password: \"+ pass_generator(len));\n",
        "\n",
        "\n",
        "  else :\n",
        "    print(\"Invalid choice. Try Again!\");\n",
        "    repeatCode();\n",
        "\n",
        "\n",
        "characters_set = \"\";\n",
        "password = [];\n",
        "\n",
        "print(\"Enter the length of the password:\");\n",
        "len = int(input());\n",
        "repeatCode();\n",
        "\n",
        "\n",
        "\n",
        "\n"
      ]
    }
  ]
}